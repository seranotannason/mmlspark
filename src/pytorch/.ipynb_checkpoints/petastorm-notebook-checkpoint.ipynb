{
 "cells": [
  {
   "cell_type": "code",
   "execution_count": 1,
   "metadata": {
    "collapsed": true
   },
   "outputs": [],
   "source": [
    "%load_ext autoreload\n",
    "%autoreload 2"
   ]
  },
  {
   "cell_type": "code",
   "execution_count": 2,
   "metadata": {
    "collapsed": true
   },
   "outputs": [],
   "source": [
    "from PyTorchEstimator import PyTorchEstimator\n",
    "from azureml.core.workspace import Workspace\n",
    "from pyspark.context import SparkContext\n",
    "from pyspark.sql.session import SparkSession\n",
    "\n",
    "sc = SparkContext.getOrCreate()\n",
    "spark = SparkSession(sc)"
   ]
  },
  {
   "cell_type": "code",
   "execution_count": 3,
   "metadata": {
    "collapsed": true
   },
   "outputs": [],
   "source": [
    "# Get the CIFAR10 dataset as Python dictionary\n",
    "import os, tarfile, pickle\n",
    "import urllib.request\n",
    "cdnURL = \"https://amldockerdatasets.azureedge.net\"\n",
    "# Please note that this is a copy of the CIFAR10 dataset originally found here:\n",
    "# http://www.cs.toronto.edu/~kriz/cifar-10-python.tar.gz\n",
    "dataFile = \"cifar-10-python.tar.gz\"\n",
    "dataURL = cdnURL + \"/CIFAR10/\" + dataFile\n",
    "if not os.path.isfile(dataFile):\n",
    "    urllib.request.urlretrieve(dataURL, dataFile)\n",
    "with tarfile.open(dataFile, \"r:gz\") as f:\n",
    "    test_dict = pickle.load(f.extractfile(\"cifar-10-batches-py/test_batch\"),\n",
    "                            encoding=\"latin1\")"
   ]
  },
  {
   "cell_type": "code",
   "execution_count": 4,
   "metadata": {
    "collapsed": true
   },
   "outputs": [],
   "source": [
    "from petastorm.unischema import dict_to_spark_row, Unischema, UnischemaField\n",
    "from petastorm.codecs import ScalarCodec, NdarrayCodec\n",
    "from pyspark.sql.types import *\n",
    "import numpy as np\n",
    "\n",
    "# Generate Petastorm dataset\n",
    "image_zip = zip(test_dict[\"data\"], test_dict[\"labels\"])\n",
    "\n",
    "CIFARSchema = Unischema('CIFARSchema', [\n",
    "    UnischemaField('image', np.uint8, (3,32,32), NdarrayCodec(), False),\n",
    "    UnischemaField('label', np.int32, (), ScalarCodec(IntegerType()), False),\n",
    "])\n",
    "\n",
    "def reshape_image(record):\n",
    "    image, label = record\n",
    "    return {'image': image.reshape(3,32,32), 'label': label}\n",
    "\n",
    "rows_rdd = sc.parallelize(image_zip)\\\n",
    "    .map(reshape_image)\\\n",
    "    .map(lambda x: dict_to_spark_row(CIFARSchema, x))\n",
    "    \n",
    "imagesWithLabels = spark.createDataFrame(rows_rdd)"
   ]
  },
  {
   "cell_type": "code",
   "execution_count": 5,
   "metadata": {
    "collapsed": true
   },
   "outputs": [],
   "source": [
    "# Split the images with labels into a train and test data\n",
    "train, test = imagesWithLabels.randomSplit([0.8, 0.2], seed=123)"
   ]
  },
  {
   "cell_type": "code",
   "execution_count": 6,
   "metadata": {},
   "outputs": [
    {
     "name": "stdout",
     "output_type": "stream",
     "text": [
      "+--------------------+-----+\n",
      "|               image|label|\n",
      "+--------------------+-----+\n",
      "|[93 4E 55 4D 50 5...|    2|\n",
      "|[93 4E 55 4D 50 5...|    2|\n",
      "|[93 4E 55 4D 50 5...|    1|\n",
      "+--------------------+-----+\n",
      "only showing top 3 rows\n",
      "\n",
      "root\n",
      " |-- image: binary (nullable = true)\n",
      " |-- label: long (nullable = true)\n",
      "\n"
     ]
    }
   ],
   "source": [
    "train.show(3)\n",
    "train.printSchema()"
   ]
  },
  {
   "cell_type": "code",
   "execution_count": null,
   "metadata": {
    "collapsed": true
   },
   "outputs": [],
   "source": [
    "# Initializing the estimator\n",
    "workspace = Workspace('e54229a3-0e6f-40b3-82a1-ae9cda6e2b81', 'mmlspark-serano', 'playground')\n",
    "clusterName = 'train-target'\n",
    "trainingScript = 'pytorch_train.py'\n",
    "nodeCount = 1\n",
    "modelPath = 'outputs/model.pt'\n",
    "experimentName = 'pytorch-cifar'\n",
    "unischema = CIFARSchema\n",
    "\n",
    "estimator = PyTorchEstimator(workspace, clusterName, trainingScript, nodeCount, modelPath, experimentName, unischema)"
   ]
  },
  {
   "cell_type": "code",
   "execution_count": null,
   "metadata": {
    "scrolled": true
   },
   "outputs": [
    {
     "name": "stdout",
     "output_type": "stream",
     "text": [
      "Found existing compute target.\n",
      "Uploading /tmp/data/dataset.parquet/._SUCCESS.crc\n",
      "Uploading /tmp/data/dataset.parquet/.part-00000-cb6d2487-ab82-4841-addf-e5b58ee4f07a-c000.snappy.parquet.crc\n",
      "Uploading /tmp/data/dataset.parquet/.part-00001-cb6d2487-ab82-4841-addf-e5b58ee4f07a-c000.snappy.parquet.crc\n",
      "Uploading /tmp/data/dataset.parquet/_SUCCESS\n",
      "Uploading /tmp/data/dataset.parquet/_common_metadata\n",
      "Uploading /tmp/data/dataset.parquet/part-00000-cb6d2487-ab82-4841-addf-e5b58ee4f07a-c000.snappy.parquet\n",
      "Uploading /tmp/data/dataset.parquet/part-00001-cb6d2487-ab82-4841-addf-e5b58ee4f07a-c000.snappy.parquet\n",
      "Uploaded /tmp/data/dataset.parquet/._SUCCESS.crc, 1 files out of an estimated total of 7\n",
      "Uploaded /tmp/data/dataset.parquet/_common_metadata, 2 files out of an estimated total of 7\n",
      "Uploaded /tmp/data/dataset.parquet/_SUCCESS, 3 files out of an estimated total of 7\n",
      "Uploaded /tmp/data/dataset.parquet/.part-00000-cb6d2487-ab82-4841-addf-e5b58ee4f07a-c000.snappy.parquet.crc, 4 files out of an estimated total of 7\n"
     ]
    }
   ],
   "source": [
    "model = estimator.fit(train)"
   ]
  },
  {
   "cell_type": "code",
   "execution_count": null,
   "metadata": {
    "collapsed": true
   },
   "outputs": [],
   "source": []
  }
 ],
 "metadata": {
  "kernelspec": {
   "display_name": "Python 3",
   "language": "python",
   "name": "python3"
  },
  "language_info": {
   "codemirror_mode": {
    "name": "ipython",
    "version": 3
   },
   "file_extension": ".py",
   "mimetype": "text/x-python",
   "name": "python",
   "nbconvert_exporter": "python",
   "pygments_lexer": "ipython3",
   "version": "3.6.3"
  }
 },
 "nbformat": 4,
 "nbformat_minor": 2
}
