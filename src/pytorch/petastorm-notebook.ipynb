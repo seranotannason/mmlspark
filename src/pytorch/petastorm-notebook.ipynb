{
 "cells": [
  {
   "cell_type": "code",
   "execution_count": 1,
   "metadata": {},
   "outputs": [],
   "source": [
    "%load_ext autoreload\n",
    "%autoreload 2"
   ]
  },
  {
   "cell_type": "code",
   "execution_count": 2,
   "metadata": {},
   "outputs": [],
   "source": [
    "from PyTorchEstimator import PyTorchEstimator\n",
    "from PyTorchModel import PyTorchModel\n",
    "from azureml.core.workspace import Workspace\n",
    "from pyspark.context import SparkContext\n",
    "from pyspark.sql.session import SparkSession\n",
    "from pyspark.sql.functions import udf\n",
    "\n",
    "import pyspark\n",
    "spark = pyspark.sql.SparkSession.builder.appName(\"MyApp2\").getOrCreate()\n",
    "#    .config(\"spark.jars.packages\", \"Azure:mmlspark:0.17\") \\\n",
    "sc = spark.sparkContext\n",
    "import mmlspark"
   ]
  },
  {
   "cell_type": "code",
   "execution_count": 3,
   "metadata": {},
   "outputs": [],
   "source": [
    "# Get the CIFAR10 dataset as Python dictionary\n",
    "import os, tarfile, pickle\n",
    "import urllib.request\n",
    "cdnURL = \"https://amldockerdatasets.azureedge.net\"\n",
    "# Please note that this is a copy of the CIFAR10 dataset originally found here:\n",
    "# http://www.cs.toronto.edu/~kriz/cifar-10-python.tar.gz\n",
    "dataFile = \"cifar-10-python.tar.gz\"\n",
    "dataURL = cdnURL + \"/CIFAR10/\" + dataFile\n",
    "if not os.path.isfile(dataFile):\n",
    "    urllib.request.urlretrieve(dataURL, dataFile)\n",
    "with tarfile.open(dataFile, \"r:gz\") as f:\n",
    "    test_dict = pickle.load(f.extractfile(\"cifar-10-batches-py/test_batch\"),\n",
    "                            encoding=\"latin1\")"
   ]
  },
  {
   "cell_type": "code",
   "execution_count": 4,
   "metadata": {},
   "outputs": [
    {
     "name": "stdout",
     "output_type": "stream",
     "text": [
      "[[[ 23  19  21 ... 200 199 197]\n",
      "  [ 23  19  21 ... 205 204 202]\n",
      "  [ 23  20  23 ... 211 208 206]\n",
      "  ...\n",
      "  [194 177 176 ... 149 148 141]\n",
      "  [172 157 165 ... 140 149 152]\n",
      "  [151 134 144 ... 149 155 150]]\n",
      "\n",
      " [[ 19  21  16 ... 155 152 151]\n",
      "  [ 20  20  17 ... 168 164 163]\n",
      "  [ 20  20  20 ... 173 169 166]\n",
      "  ...\n",
      "  [196 179 179 ... 131 130 123]\n",
      "  [177 161 170 ... 122 130 134]\n",
      "  [157 140 151 ... 132 137 132]]\n",
      "\n",
      " [[ 23  28  19 ... 125 122 120]\n",
      "  [ 24  27  20 ... 133 129 128]\n",
      "  [ 24  26  23 ... 139 136 132]\n",
      "  ...\n",
      "  [163 144 141 ... 117 116 110]\n",
      "  [142 126 131 ... 108 116 119]\n",
      "  [123 104 112 ... 118 123 118]]]\n"
     ]
    },
    {
     "data": {
      "image/png": "[encoded data removed]",
      "text/plain": [
       "<Figure size 432x288 with 1 Axes>"
      ]
     },
     "metadata": {
      "needs_background": "light"
     },
     "output_type": "display_data"
    }
   ],
   "source": [
    "# Check that images look right\n",
    "%matplotlib inline\n",
    "\n",
    "import matplotlib.pyplot as plt\n",
    "import numpy as np\n",
    "\n",
    "print(test_dict[\"data\"][8].reshape(3,32,32))\n",
    "imgplot = plt.imshow(test_dict[\"data\"][8].reshape(3,32,32).transpose([1, 2, 0]))"
   ]
  },
  {
   "cell_type": "code",
   "execution_count": 8,
   "metadata": {},
   "outputs": [
    {
     "name": "stdout",
     "output_type": "stream",
     "text": [
      "DataFrame[image: binary, label: bigint]\n",
      "<class 'pyspark.sql.dataframe.DataFrame'>\n"
     ]
    }
   ],
   "source": [
    "from petastorm.unischema import dict_to_spark_row, Unischema, UnischemaField\n",
    "from petastorm.codecs import ScalarCodec, NdarrayCodec, CompressedImageCodec\n",
    "from pyspark.sql.types import *\n",
    "from pyspark.sql import Row\n",
    "import numpy as np\n",
    "import cv2\n",
    "from collections import OrderedDict\n",
    "\n",
    "# Generate Petastorm dataset\n",
    "image_zip = zip(test_dict[\"data\"], test_dict[\"labels\"])\n",
    "\n",
    "# CIFARSchema = Unischema('CIFARSchema', [\n",
    "#     UnischemaField('image', np.uint8, (32,32,3), CompressedImageCodec('png'), False),\n",
    "#     UnischemaField('label', np.int64, (), ScalarCodec(IntegerType()), False)\n",
    "# ])\n",
    "\n",
    "def format_image(record):\n",
    "    image, label = record\n",
    "    \n",
    "    reshaped_image = image.reshape(3,32,32).transpose([1, 2, 0])\n",
    "    _, encoded_image = cv2.imencode('.jpg', reshaped_image)\n",
    "    serialized_image = bytearray(encoded_image)\n",
    "    \n",
    "    print(\"TYPE OF SERIALIZED: \", type(serialized_image))\n",
    "    \n",
    "    return {'image': serialized_image, \n",
    "            'label': label}\n",
    "\n",
    "def convert_to_row(d: dict) -> Row:\n",
    "    return Row(**OrderedDict(sorted(d.items())))\n",
    "\n",
    "imagesWithLabels = sc.parallelize(image_zip) \\\n",
    "            .map(format_image) \\\n",
    "            .map(convert_to_row) \\\n",
    "            .toDF()\n",
    "\n",
    "#             .map(lambda x: dict_to_spark_row(CIFARSchema, x))\n",
    "\n",
    "# imagesWithLabels = spark.createDataFrame(rows_rdd)"
   ]
  },
  {
   "cell_type": "code",
   "execution_count": null,
   "metadata": {},
   "outputs": [],
   "source": [
    "# Split the images with labels into a train and test data\n",
    "train, test = imagesWithLabels.randomSplit([0.8, 0.2], seed=123)"
   ]
  },
  {
   "cell_type": "code",
   "execution_count": null,
   "metadata": {},
   "outputs": [],
   "source": [
    "test.show(5)\n",
    "test.printSchema()"
   ]
  },
  {
   "cell_type": "code",
   "execution_count": null,
   "metadata": {},
   "outputs": [],
   "source": [
    "# Initializing the estimator\n",
    "workspace = Workspace('e54229a3-0e6f-40b3-82a1-ae9cda6e2b81', 'mmlspark-serano', 'playground')\n",
    "clusterName = 'train-target'\n",
    "trainingScript = '/home/azureuser/mmlspark/src/pytorch/pytorch_train.py'\n",
    "modelScript = '/home/azureuser/mmlspark/src/pytorch/pytorch_net.py'\n",
    "nodeCount = 1\n",
    "modelPath = './outputs/model'\n",
    "experimentName = 'pytorch-train-cifar'\n",
    "unischema = CIFARSchema\n",
    "\n",
    "estimator = PyTorchEstimator(workspace, clusterName, trainingScript, modelScript, nodeCount, modelPath, experimentName, unischema)"
   ]
  },
  {
   "cell_type": "code",
   "execution_count": null,
   "metadata": {
    "scrolled": true
   },
   "outputs": [],
   "source": [
    "model = estimator.fit(train)"
   ]
  },
  {
   "cell_type": "code",
   "execution_count": null,
   "metadata": {},
   "outputs": [],
   "source": [
    "# Optional dev checkpoint. Use 7h-trained model\n",
    "from azureml.core import Experiment\n",
    "\n",
    "# runId = 'pytorch-train-cifar_1561412083_43a28b53'  #7h-trained model\n",
    "runId = 'pytorch-train-cifar_1561654773_b92fb2c6'\n",
    "experiment = Experiment(workspace, name=experimentName)\n",
    "\n",
    "model = PyTorchModel(runId, experiment, workspace, modelPath, unischema)"
   ]
  },
  {
   "cell_type": "code",
   "execution_count": null,
   "metadata": {},
   "outputs": [],
   "source": [
    "def preprocess(data):\n",
    "    # ===================== WIP ========================\n",
    "    # Decode image to preprocess it\n",
    "    codec = CIFARSchema.fields[\"image\"].codec\n",
    "    decoded = codec.decode(CIFARSchema.fields[\"image\"], data)\n",
    "    \n",
    "    # normalize\n",
    "    decoded = np.divide(decoded, 255)\n",
    "    decoded[:,:,0] = (decoded[:,:,0] - 0.4914)/0.2023\n",
    "    decoded[:,:,1] = (decoded[:,:,1] - 0.4822)/0.1994\n",
    "    decoded[:,:,2] = (decoded[:,:,2] - 0.4465)/0.2010\n",
    "    \n",
    "    # Encode image again after preprocessing\n",
    "    encoded = codec.encode(CIFARSchema.fields[\"image\"], decoded)\n",
    "    # ===================== WIP ========================\n",
    "    return encoded\n",
    "\n",
    "preprocessUDF = udf(preprocess, BinaryType())"
   ]
  },
  {
   "cell_type": "code",
   "execution_count": null,
   "metadata": {},
   "outputs": [],
   "source": [
    "test_preprocessed = test.withColumn(\"image\", preprocessUDF(\"image\"))\n",
    "scoredImages = model.setInputCol(\"image\").setOutputCol(\"scored\") \\\n",
    "                    .transform(test)"
   ]
  },
  {
   "cell_type": "code",
   "execution_count": null,
   "metadata": {},
   "outputs": [],
   "source": [
    "test_preprocessed.printSchema()\n",
    "test_preprocessed.show(3)"
   ]
  },
  {
   "cell_type": "code",
   "execution_count": null,
   "metadata": {},
   "outputs": [],
   "source": [
    "scoredImages.printSchema()\n",
    "scoredImages.show(3)"
   ]
  },
  {
   "cell_type": "code",
   "execution_count": null,
   "metadata": {},
   "outputs": [],
   "source": [
    "# Transform the log probabilities to predictions\n",
    "def argmax(x):\n",
    "    return max(enumerate(x),key=lambda p: p[1])[0]\n",
    "\n",
    "argmaxUDF = udf(argmax, IntegerType())\n",
    "imagePredictions = scoredImages.withColumn(\"prediction\", argmaxUDF(\"scored\"))\\\n",
    "                               .select(\"prediction\", \"label\")"
   ]
  },
  {
   "cell_type": "code",
   "execution_count": null,
   "metadata": {},
   "outputs": [],
   "source": [
    "predictions = np.array(imagePredictions.select(\"prediction\").collect()).reshape(-1)\n",
    "labels = np.array(imagePredictions.select(\"label\").collect()).reshape(-1)\n",
    "print(\"Predictions shape: {} Labels shape: {}\".format(predictions.shape, labels.shape))\n",
    "\n",
    "correct = np.count_nonzero(predictions == labels)\n",
    "total = predictions.shape[0]\n",
    "\n",
    "print(\"Accuracy: {}% [{}/{}]\".format(100. * correct/total, correct, total))"
   ]
  },
  {
   "cell_type": "code",
   "execution_count": null,
   "metadata": {},
   "outputs": [],
   "source": [
    "print(\"predictions: \", predictions)"
   ]
  },
  {
   "cell_type": "code",
   "execution_count": null,
   "metadata": {},
   "outputs": [],
   "source": []
  }
 ],
 "metadata": {
  "file_extension": ".py",
  "kernelspec": {
   "display_name": "Python (torchspark)",
   "language": "python",
   "name": "torchspark"
  },
  "language_info": {
   "codemirror_mode": {
    "name": "ipython",
    "version": 3
   },
   "file_extension": ".py",
   "mimetype": "text/x-python",
   "name": "python",
   "nbconvert_exporter": "python",
   "pygments_lexer": "ipython3",
   "version": "3.6.3"
  },
  "mimetype": "text/x-python",
  "name": "python",
  "npconvert_exporter": "python",
  "pygments_lexer": "ipython3",
  "version": 3
 },
 "nbformat": 4,
 "nbformat_minor": 2
}
